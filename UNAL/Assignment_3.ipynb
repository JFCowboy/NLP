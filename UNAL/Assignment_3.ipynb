{
 "cells": [
  {
   "cell_type": "markdown",
   "metadata": {},
   "source": [
    "### JFCowboy"
   ]
  },
  {
   "cell_type": "markdown",
   "metadata": {},
   "source": [
    "# Description of Assignment\n",
    "\n",
    "This notebook is a example of authorship atribution.\n",
    "The purpose is to determinate what is more important for discriminating among these authors: content or style\n",
    "\n",
    "## Activity:\n",
    "\n",
    "Assign a text of unknown authorship to one candidate author.\n",
    "\n",
    "## The DataSet\n",
    "The corpus is a collection of texts from 5 Mexican Poets:\n",
    ">Efraín Huerta\n",
    "\n",
    ">Octavio Paz\n",
    "\n",
    ">Jaime Sabines\n",
    "\n",
    ">Rosario Castellanos\n",
    "\n",
    ">Rubén Bonifaz\n",
    "\n",
    "The data set is from the paper \n",
    "Authorship Attribution using Word Sequences. Rosa María Coyotl-Morales, Luis Villaseñor-Pineda,\n",
    "Manuel Montes-y-Gómez and Paolo Rosso. CIARP 2006"
   ]
  },
  {
   "cell_type": "markdown",
   "metadata": {},
   "source": [
    "---"
   ]
  },
  {
   "cell_type": "markdown",
   "metadata": {},
   "source": [
    "# Work Description\n",
    "To evalaluate the purpose, I will evaluate the corpus with 2 aproximations in the feature extration of the documents, one group is using a features that exploits the content and other group focus in the style.\n",
    "\n",
    "## Process\n",
    "1) I will do a BoW representation, this will be a baseline of the experiments.\n",
    "\n",
    "2) I will do another Feature Representations of documents like:\n",
    "\n",
    "* Bag of N-grams of words\n",
    "* Bag of N-grams of characters\n",
    "* tfidf\n",
    "* tfidf of N-grams of words\n",
    "* tfidf of N-grams of Characters\n",
    "\n",
    "in the experiments that use words I decide  to use the StopWords because this could meaning related to the author's style.\n",
    "    \n",
    "3)Download, unzip and read the documents.\n",
    "\n",
    "* Download the documents from <a href=\"http://lin99.github.io/NLPTM-2016/3.Docs/poemas.zip\"> Poemas DataSet NLPTM-2016</a>\n",
    "* unzip and create folders and document necesary to do a experiment\n",
    "* Read the documents take care about the encoding\n",
    "    \n",
    "4) Apply a partition of the dataset to Test-Validation and Train, and save the partition to do the experiments whit the diferents Feature Representations.\n",
    "\n",
    "5) Train a SVM lineal with each Feature representation.\n",
    "    \n",
    "* Exploring parameters: Train with Train dataset and test whit validation dataset changing the C parameter of SVM (prob whit diferent powers of 2)\n",
    "* Select the best parameter of C for each representation proving whit a set of Train and validation.    \n",
    "* Apply Stratified 10 Fold to verify the performance\n",
    "* All the evalution is with macro F1 score\n",
    "    \n",
    "6) Report results\n"
   ]
  },
  {
   "cell_type": "markdown",
   "metadata": {},
   "source": [
    "---"
   ]
  },
  {
   "cell_type": "markdown",
   "metadata": {},
   "source": [
    "# Experiment\n",
    "\n",
    "## Headers & Imports"
   ]
  },
  {
   "cell_type": "code",
   "execution_count": 1,
   "metadata": {
    "collapsed": true
   },
   "outputs": [],
   "source": [
    "%matplotlib inline\n",
    "\n",
    "import os\n",
    "import numpy as np\n",
    "import pandas as pd\n",
    "import sklearn as skl\n",
    "\n",
    "from sklearn import metrics, svm\n",
    "from sklearn.cross_validation import train_test_split, StratifiedKFold\n",
    "from sklearn.feature_extraction.text import CountVectorizer, TfidfVectorizer"
   ]
  },
  {
   "cell_type": "markdown",
   "metadata": {},
   "source": [
    "### Obtain and prepocess the corpus"
   ]
  },
  {
   "cell_type": "markdown",
   "metadata": {},
   "source": [
    "To dowload the documents in a linux enviroment you can run wget command, after you need unzip the file you can use a unzip -d command\n",
    "\n",
    "##### %%sh\n",
    "wget http://lin99.github.io/NLPTM-2016/3.Docs/poemas.zip\n",
    "<br>\n",
    "unzip -d poemas.zip\n",
    "\n",
    "You can see the files in your directory"
   ]
  },
  {
   "cell_type": "code",
   "execution_count": 25,
   "metadata": {
    "collapsed": false
   },
   "outputs": [
    {
     "name": "stdout",
     "output_type": "stream",
     "text": [
      ".:\n",
      "Assigment_3.ipynb  poemas  poemas.zip\n",
      "\n",
      "./poemas:\n",
      "EfrainH  JaimeS  OctavioP  RosarioC  RubenB\n",
      "\n",
      "./poemas/EfrainH:\n",
      "ABSOLUTO_AMOR.txt\n",
      "ALELUYA_COCODRILOS_SEXUALES_ALELUYA.txt\n",
      "AY_POETA.txt\n",
      "BUENOS_DÍAS_A_DIANA_CAZADORA.txt\n",
      "CANCIÓN_DE_LA_DONCELLA_DEL_ALBA.txt\n",
      "CONTINUIDAD.txt\n",
      "DECLARACIÓN_DE_AMOR.txt\n",
      "DECLARACIÓN_DE_ODIO.txt\n",
      "DOS.txt\n",
      "ELEGÍA.txt\n",
      "ELEGÍA_DE_LA_ROSA_BLANCA.txt\n",
      "EL_AMOR.txt\n",
      "EL_RETORNO.txt\n",
      "EL_TAJÍN.txt\n",
      "ERES_AMOR.txt\n",
      "ESA_SANGRE.txt\n",
      "ESA_SONRISA.txt\n",
      "ESTRELLA_EN_ALTO.txt\n",
      "ESTUARIO.txt\n",
      "EUNICE.txt\n",
      "ÉSTE_ES_UN_AMOR.txt\n",
      "LAS_VOCES_PROHIBIDAS.txt\n",
      "LA_AMANTE.txt\n",
      "LA_ESTRELLA.txt\n",
      "LA_MUCHACHA_EBRIA.txt\n",
      "LA_NOCHE_DE_LA_PERVERSIÓN.txt\n",
      "LA_PALOMA_Y_EL_SUEÑO.txt\n",
      "LA_ROSA_PRIMITIVA.txt\n",
      "LA_SUSODICHA.txt\n",
      "LÍNEA_DEL_ALBA.txt\n",
      "LLUVIA_NUEVA.txt\n",
      "LOS_HOMBRES_DEL_ALBA.txt\n",
      "LOS_RUIDOS_DEL_ALBA.txt\n",
      "MEDITACIÓN_DE_LA_ROSA.txt\n",
      "ÓRDENES_DE_AMOR.txt\n",
      "PAISAJE_DUDOSO.txt\n",
      "PARA_GOZAR_TU_PAZ.txt\n",
      "PAUSA.txt\n",
      "PEQUEÑO_LARIYSSE.txt\n",
      "PRIMER_CANTO_DE_ABANDONO.txt\n",
      "QUIÉN_QUE_ES_NO_AMA_A_VIRGINIA_WOOLF.txt\n",
      "RESPONSO_POR_UN_POETA_DESCUARTIZADO.txt\n",
      "REVELACIÓN.txt\n",
      "SER_DE_TI.txt\n",
      "SÍLABAS_POR_EL_MAXILAR_DE_FRANZ_KAFKA.txt\n",
      "TERNURA.txt\n",
      "TÓTEM.txt\n",
      "UN_CUADERNO_DE_DIBUJO_DE_NUNIK_SAURET.txt\n",
      "\n",
      "./poemas/JaimeS:\n",
      "ACTUALIDAD.txt\n",
      "ADÁN_Y_EVA.txt\n",
      "AHORA_PUEDO_HACER_LLOVER.txt\n",
      "ALELUYA_LA_MADRE_ALELUYA_EL_TIEMPO.txt\n",
      "ALGO_SOBRE_LA_MUERTE_DEL_MAYOR_SABINES_PRIMERA_PARTE_X.txt\n",
      "ALGO_SOBRE_LA_MUERTE_DEL_MAYOR_SABINES_PRIMERA_PARTE_XII.txt\n",
      "ALGO_SOBRE_LA_MUERTE_DEL_MAYOR_SABINES_PRIMERA_PARTE_XV.txt\n",
      "ALLÍ_HABÍA_UNA_NIÑA.txt\n",
      "AMOR_MÍO_MI_AMOR.txt\n",
      "ASÍ_ES.txt\n",
      "AUTONECROLOGÍA_V.txt\n",
      "AUTONECROLOGÍA_VI.txt\n",
      "A_ESTAS_HORAS_AQUI.txt\n",
      "BOCA_DEL_LLANTO.txt\n",
      "CABALLOS_DE_FUERZA.txt\n",
      "COMO_PÁJAROS_PERDIDOS_XII.txt\n",
      "COMO_PÁJAROS_PERDIDOS_XIX.txt\n",
      "COMO_PÁJAROS_PERDIDOS_XXXVI.txt\n",
      "CON_LA_FLOR_DEL_DOMINGO.txt\n",
      "CUANDO_TENGAS_GANAS_DE_MORIRTE.txt\n",
      "DEL_MITO.txt\n",
      "DENTRO_DE_POCO_VAS_A_OFRECER.txt\n",
      "DESPUÉS_DE_TODO.txt\n",
      "DIGO_QUE_NO_PUEDE_DECIRSE_EL_AMOR.txt\n",
      "DOÑA_LUZ_XXI.txt\n",
      "EL_DIABLO_Y_YO_NOS_ENTENDEMOS.txt\n",
      "EL_DÍA.txt\n",
      "EL_PEATÓN.txt\n",
      "ENTRESUELO.txt\n",
      "EN_EL_SACO_DE_MI_CORAZÓN.txt\n",
      "EN_LA_SOMBRA_ESTABAN_SUS_OJOS.txt\n",
      "EN_LOS_OJOS_ABIERTOS_DE_LOS_MUERTOS.txt\n",
      "EN_SERIO.txt\n",
      "ESA_ES_SU_VENTANA.txt\n",
      "ESPERO_CURARME_DE_TI.txt\n",
      "ES_LA_SOMBRA_DEL_AGUA.txt\n",
      "FAMILIA.txt\n",
      "HAY_UN_MODO.txt\n",
      "HORAL.txt\n",
      "IGUAL_QUE_LOS_CANGREJOS.txt\n",
      "LA_COJITA_ESTÁ_EMBARAZADA.txt\n",
      "LA_LUNA.txt\n",
      "LA_OLA_DE_DIOS.txt\n",
      "LA_PROCESIÓN_DEL_ENTIERRO.txt\n",
      "LENTO_AMARGO_ANIMAL.txt\n",
      "LOS_AMOROSOS.txt\n",
      "LOS_DÍAS_INÚTILES.txt\n",
      "ME_ALEGRO_DE_QUE_EL_SOL_HAYA_DALIDO.txt\n",
      "ME_ENCANTA_DIOS.txt\n",
      "MISS_X.txt\n",
      "MI_CORAZÓN_EMPRENDE.txt\n",
      "NO_ES_NADA_DE_TU_CUERPO.txt\n",
      "NO_ES_QUE_MUERA_DE_AMOR.txt\n",
      "NO_QUIERO_CONVENCER_A_NADIE_DE_NADA.txt\n",
      "OCURRE_QUE_LA_REALIDAD.txt\n",
      "OTRA_CARTA.txt\n",
      "PADRE_MÍO_SEÑOR_MÍO_HERMANO_MÍO.txt\n",
      "PASA_EL_LUNES.txt\n",
      "PENSÁNDOLO_BIEN.txt\n",
      "PEQUEÑA_DEL_AMOR.txt\n",
      "PREOCUPACIÓN_DE_JOB.txt\n",
      "QUÉ_COSTUMBRE_TAN_SALVAJE.txt\n",
      "QUÉ_PUTAS_PUEDO_HACER.txt\n",
      "QUÉ_RISUEÑO_CONTACTO.txt\n",
      "QUIERO_APOYAR_MI_CABEZA.txt\n",
      "SE_MECEN_LOS_ÁRBOLES.txt\n",
      "SITIO_DE_AMOR.txt\n",
      "SI_HUBIERA_DE_MORIR.txt\n",
      "SI_UNO_PUDIERA_ENCONTRAR.txt\n",
      "SOY_MI_CUERPO.txt\n",
      "TENGO_OJOS_PARA_VER_EN_ESTA_NOCHE.txt\n",
      "TE_DESNUDAS_IGUAL.txt\n",
      "TE_QUIERO_A_LAS_DIEZ_DE_LA_MAÑANA.txt\n",
      "TÍA_CHOFI.txt\n",
      "TLALTELOLCO.txt\n",
      "TU_CUERPO_ESTÁ_A_MI_LADO.txt\n",
      "TU_NOMBRE.txt\n",
      "VEREMOS.txt\n",
      "VIEJA_LA_NOCHE.txt\n",
      "YO_NO_LO_SÉ_DE_CIERTO.txt\n",
      "\n",
      "./poemas/OctavioP:\n",
      "ACABAR_CON_TODO.txt\t\t      LA_VIDA_SENCILLA.txt\n",
      "A_TRAVÉS.txt\t\t\t      MADRUGADA.txt\n",
      "ÁRBOL_QUIETO_ENTRE_NUBES.txt\t      MANANTIAL.txt\n",
      "BAJO_TU_CLARA_SOMBRA.txt\t      MAR_POR_LA_TARDE.txt\n",
      "CERRO_DE_LA_ESTRELLA.txt\t      MÁS_ALLÁ_DEL_AMOR.txt\n",
      "COMO_QUIEN_OYE_LLOVER.txt\t      MISTERIO.txt\n",
      "CONTRA_LA_NOCHE_SIN_CUERPO.txt\t      MONÓLOGO.txt\n",
      "CUERPO_A_LA_VISTA.txt\t\t      MOVIMIENTO.txt\n",
      "DAME_LLAMA_INVISIBLE_ESPOSA_FRÍA.txt  NIÑA.txt\n",
      "DECIR_HACER.txt\t\t\t      NOCHE_DE_VERANO.txt\n",
      "DESTINO_DE_POETA.txt\t\t      NOCTURNO.txt\n",
      "DISPARO.txt\t\t\t      NUBES.txt\n",
      "DOS_CUERPOS.txt\t\t\t      NUEVO_ROSTRO.txt\n",
      "ELEGÍA_INTERRUMPIDA.txt\t\t      OLVIDO.txt\n",
      "EL_CÁNTARO_ROTO.txt\t\t      OTAVIO_PAZ.txt\n",
      "EL_DESCONOCIDO.txt\t\t      OTOÑO.txt\n",
      "EL_MAR_EL_MAR_Y_TÚ.txt\t\t      PALPAR.txt\n",
      "EL_PÁJARO.txt\t\t\t      PIEDRA_DE_TOQUE.txt\n",
      "EL_SEDIENTO.txt\t\t\t      PIEDRA_NATIVA.txt\n",
      "ENTRE_IRSE_Y_QUEDARSE.txt\t      POR_QUÉ_TOCAS_MI_PECHO_NUEVAMENTE.txt\n",
      "EPITAFIO_PARA_UN_POETA.txt\t      PRIMAVERA_A_LA_VISTA.txt\n",
      "ESCRITO_CON_TINTA_VERDE.txt\t      REFRANES.txt\n",
      "ESPEJO.txt\t\t\t      REGRESO.txt\n",
      "FELICIDAD_EN_HERAT.txt\t\t      RELÁMPAGO_EN_REPOSO.txt\n",
      "FRENTE_AL_MAR.txt\t\t      REPETICIONES.txt\n",
      "HERMANDAD.txt\t\t\t      RETÓRICA.txt\n",
      "HERMOSURA_QUE_VUELVE.txt\t      SALVAS.txt\n",
      "INMÓVIL_EN_LA_LUZ_PERO_DANZANTE.txt   SEMILLAS_PARA_UN_HIMNO.txt\n",
      "JUNIO.txt\t\t\t      SILENCIO.txt\n",
      "LAS_PALABRAS.txt\t\t      SONETO.txt\n",
      "LA_CAÍDA.txt\t\t\t      SONETOS.txt\n",
      "LA_CALLE.txt\t\t\t      TENDIDA_Y_DESGARRADA.txt\n",
      "LA_DULCINEA_DE_DUCHAMP.txt\t      TOCA_MI_PIEL.txt\n",
      "LA_HORA_ES_TRANSPARENTE.txt\t      TUS_OJOS.txt\n",
      "LA_POESÍA.txt\t\t\t      TU_NOMBRE.txt\n",
      "LA_POESÍA_2.txt\t\t\t      VIENTO.txt\n",
      "LA_POESÍA_3.txt\t\t\t      VISITAS.txt\n",
      "LA_RAMA.txt\n",
      "\n",
      "./poemas/RosarioC:\n",
      "ACCIDENTE.txt\t\t\t\tLAS_DÁDIVAS.txt\n",
      "AGONÍA_FUERA_DEL_MURO.txt\t\tLA_CASA_VACÍA.txt\n",
      "AJEDREZ.txt\t\t\t\tLA_DESPEDIDA.txt\n",
      "AMANECER.txt\t\t\t\tLA_NOSTALGIA.txt\n",
      "AMOR.txt\t\t\t\tLA_PROFECÍA.txt\n",
      "APELACIÓN_AL_SOLITARIO.txt\t\tLA_PROMESA.txt\n",
      "APUNTES_PARA_UNA_DECLARACIÓN_DE_FE.txt\tLA_VELADA_DEL_DAPO.txt\n",
      "BELLA_DAMA_SIN_PIEDAD.txt\t\tLINAJE.txt\n",
      "CANCIÓN.txt\t\t\t\tLÍMITE.txt\n",
      "CANCIÓN_DE_CUNA.txt\t\t\tLÍVIDA_LUZ.txt\n",
      "CANCIÓN_EL_TENTADOR.txt\t\t\tLOS_ADIOSES.txt\n",
      "CHARLA.txt\t\t\t\tLOS_AMIGOS.txt\n",
      "CIUDAD_BAJO_EL_RELÁMPAGO.txt\t\tLOS_ENGAÑADOS.txt\n",
      "DESAMOR.txt\t\t\t\tLO_COTIDIANO.txt\n",
      "DESTIERRO.txt\t\t\t\tMEDITACIÓN_EN_EL_UMBRAL.txt\n",
      "DESTINO.txt\t\t\t\tMONÓLOGO_EN_LA_CELDA.txt\n",
      "DISTANCIA_DEL_AMIGO.txt\t\t\tNACIMIENTO.txt\n",
      "DOS_ELEGÍAS_BREVES.txt\t\t\tNINFOMANÍA.txt\n",
      "DOS_MEDITACIONES.txt\t\t\tNOCTURNO_I.txt\n",
      "DOS_POEMAS.txt\t\t\t\tNOCTURNO_II.txt\n",
      "ECONOMÍA_DOMÉSTICA.txt\t\t\tNOSTALGIA.txt\n",
      "ELEGÍA.txt\t\t\t\tNOTA_ROJA.txt\n",
      "ELEGÍA_I.txt\t\t\t\tPARÁBOLA_DE_LA_INCONSTANTE.txt\n",
      "ELEGÍA_II.txt\t\t\t\tPEQUEÑA_CRÓNICA.txt\n",
      "EL_AUSENTE.txt\t\t\t\tPIEDRA.txt\n",
      "EL_DESPOJO.txt\t\t\t\tPRESENCIA.txt\n",
      "EL_DÍA_INÚTIL.txt\t\t\tPRIVILEGIO_DE_LA_SUICIDA.txt\n",
      "EL_ENCERRADO.txt\t\t\tQUINTA_DE_RECREO.txt\n",
      "EL_ETERNO_FEMENINO.txt\t\t\tRECORDATORIO.txt\n",
      "EL_EXCLUIDO.txt\t\t\t\tRELACIÓN_DEL_PEREGRINO.txt\n",
      "EL_HERMANO_MAYOR.txt\t\t\tRETORNO.txt\n",
      "EL_OTRO.txt\t\t\t\tRETRATO_DE_ANTEPASADO.txt\n",
      "EL_UNGIDO.txt\t\t\t\tREVELACIÓN.txt\n",
      "EN_EL_FILO_DEL_GOZO.txt\t\t\tSER_RÍO_SIN_PECES.txt\n",
      "ÉXODO.txt\t\t\t\tSOBREMESA.txt\n",
      "FALSA_ELEGÍA.txt\t\t\tSONETO_DEL_EMIGRADO.txt\n",
      "FÁBULA_Y_LABERINTO.txt\t\t\tTESTAMENTO_DE_HÉCUBA.txt\n",
      "INVIERNO_EN_EL_ANÁHUAC.txt\t\tTOMA_DE_CONCIENCIA.txt\n",
      "IN_MEMORIAM.txt\t\t\t\tTRES_POEMAS.txt\n",
      "LAMENTACIÓN_DE_DIDO.txt\t\t\tUNA_PALMERA.txt\n",
      "\n",
      "./poemas/RubenB:\n",
      "ADIÓS_ADIÓS_MIS_COMPAÑEROS.txt\n",
      "ALGO_SE_ME_HA_QUEBRADO_ESTA_MAÑANA.txt\n",
      "ALGUNA_VEZ_TE_ALCANZARÁ_EL_SONIDO.txt\n",
      "ALZA_LAS_MAREAS_CON_LOS_HIMNOS.txt\n",
      "AMAPOLA_TRASTORNO.txt\n",
      "AMIGA_A_LA_QUE_AMO.txt\n",
      "AUNQUE_BIEN_SÉ_QUE_NO_ME_EXTRAÑAS.txt\n",
      "AVIESO_SUS_MOSCAS_DERROTADAS.txt\n",
      "A_TU_PUERTA_LLAMÉ_NO_ESTABAS.txt\n",
      "ÁBRESE_EL_FUEGO_Y_SALTA_LA_BURBUJA.txt\n",
      "ÁREA_SONANTE.txt\n",
      "BIENVENIDAS_DE_ÁCIDOS_Y_SALES.txt\n",
      "BUEYES_PUERCOS_AÑOS_HAN_PISADO.txt\n",
      "CABELLO_AL_AIRE.txt\n",
      "CARBONIZADA_ENTRE_LAS_BRASAS.txt\n",
      "CASA_DE_UMBRALES_CONSTRUIDA.txt\n",
      "CASI_DE_MUERTO_HE_RECORDADO.txt\n",
      "CENTÍMETRO_A_CENTÍMETRO.txt\n",
      "COMO_RUMOR_DE_MUCHEDUMBRE.txt\n",
      "COMO_VA_A_LA_SED_SU_ABREVADERO.txt\n",
      "CUÁL_ES_LA_MUJER.txt\n",
      "DEPREDADORAS_DE_ALEGRÍA.txt\n",
      "DESDE_SU_NUDO_A_CIEGAS.txt\n",
      "DE_PIE_EN_LOS_ROSTROS_DEL_OPROBIO.txt\n",
      "DE_VIAJEROS_OJOS_SUBCUTÁNEOS.txt\n",
      "DE_VIGILIAS_MULTIPLICADORAS.txt\n",
      "EBRIEDAD_DE_SUBIR_BUSCANDO.txt\n",
      "EL_OLEAJE_DE_LA_HOGUERA.txt\n",
      "EN_EL_VÉRTIGO_DEL_POZO_ANGÉLICO.txt\n",
      "EN_QUÉ_VOY_A_CREER_AHORA.txt\n",
      "ERA_TAMBIÉN_DE_FUEGO.txt\n",
      "ESTA_NOCHE_DE_TRENES.txt\n",
      "ESTÁN_CANTANDO_ADENTRO.txt\n",
      "FELIZ_LA_CHANCLA_EN_QUE_APOSENTAS.txt\n",
      "FUEGO_DE_POBRES.txt\n",
      "HAMBRE_DE_MUELAS_EN_FAENA.txt\n",
      "HAZ_QUE_YO_PUEDA_SER_AMOR_LA_ESCALA.txt\n",
      "HA_LLEGADO_EL_OLOR.txt\n",
      "HOJA_AL_AIRE_INDEFENSA.txt\n",
      "HOY_PORQUE_NO_QUIERO_ENTRISTECERME.txt\n",
      "IGUAL_QUE_EL_LICOR_ENTRE_LAS_ALAS.txt\n",
      "LUMBRERAS_DE_CIMAS_DESGREÑADAS.txt\n",
      "MAL_ME_PAGASTE_MALAMENTE.txt\n",
      "MARIANA.txt\n",
      "NINGÚN_OTRO_CUERPO_COMO_EL_TUYO.txt\n",
      "NO_COMPASIVO_NO_CLEMENTE.txt\n",
      "NO_ES_MI_AÑO_ALGUIEN_TE_TIENE.txt\n",
      "NO_ES_UNA_DESGRACIA_ABRIR_LOS_OJOS.txt\n",
      "PARA_LOS_QUE_LLEGAN_A_LAS_FIESTAS.txt\n",
      "PULIDA_LA_PIEL_BAJO_TUS_ROSAS.txt\n",
      "QUE_EL_AMOR_SEA_CON_NOSOTROS.txt\n",
      "QUÉ_FÁCIL_SERÍA_PARA_ESTA_MOSCA.txt\n",
      "QUÉ_LLENARÁ_A_MIS_OJOS_AL_ABRIRLOS.txt\n",
      "QUIZÁS_UNA_SOLA_VEZ_SE_VIVE.txt\n",
      "RASPOSO_DE_TURBIOS_GUITARRONES.txt\n",
      "RECOSTADO_EN_SU_PLACER_EL_DIA.txt\n",
      "SABIA_EN_LOS_CRISOLES_EN_LOS_HORNOS.txt\n",
      "SACERDOTAL_POTENCIA_ERGUIDA.txt\n",
      "SE_DERRUMBA_EL_FUEGO_EN_POLVADERAS.txt\n",
      "SI_ME_PREGUNTAN_QUIÉN_ESTUVO.txt\n",
      "SI_NACE_DE_TUS_MANOS_Y_ES_OSCURA.txt\n",
      "SON_OLOR_DE_LLUVIA_TUS_CABELLOS.txt\n",
      "SÓLO_TEMBLOR_ARDIENTE.txt\n",
      "SUELTA_SU_VAGO_HUMOR_DE_VIDRIO.txt\n",
      "TE_ABRAZA_LA_LLUVIA_EN_SU_DESCENSO.txt\n",
      "TINTA_Y_PAPEL_ESTOY_PIDIENDO.txt\n",
      "TÚ_DAS_LA_VISTA_A_MIS_PUPILAS_CIEGAS.txt\n",
      "VENCIDO_EL_ATRIO_DESVESTIDA.txt\n",
      "YO_SEGUIRÉ_CANTANDO_TÚ_HABRÁS_MUERTO.txt\n",
      "Y_NUEVAMENTE_ABRIL_A_FLOR_DE_CIELO.txt\n"
     ]
    }
   ],
   "source": [
    "%%sh\n",
    "ls -R -C"
   ]
  },
  {
   "cell_type": "code",
   "execution_count": 2,
   "metadata": {
    "collapsed": false
   },
   "outputs": [
    {
     "name": "stdout",
     "output_type": "stream",
     "text": [
      "Los directorios son: ['JaimeS', 'RubenB', 'OctavioP', 'RosarioC', 'EfrainH']\n",
      "Algunos archivos son:\n",
      "['JaimeS/QUIERO_APOYAR_MI_CABEZA.txt', 'JaimeS/ALGO_SOBRE_LA_MUERTE_DEL_MAYOR_SABINES_PRIMERA_PARTE_XII.txt', 'JaimeS/NO_ES_NADA_DE_TU_CUERPO.txt', 'JaimeS/LOS_DI\\xcc\\x81AS_INU\\xcc\\x81TILES.txt', 'JaimeS/ADA\\xcc\\x81N_Y_EVA.txt'] \n",
      "['RubenB/VENCIDO_EL_ATRIO_DESVESTIDA.txt', 'RubenB/NO_ES_UNA_DESGRACIA_ABRIR_LOS_OJOS.txt', 'RubenB/DEPREDADORAS_DE_ALEGRI\\xcc\\x81A.txt', 'RubenB/ADIO\\xcc\\x81S_ADIO\\xcc\\x81S_MIS_COMPAN\\xcc\\x83EROS.txt', 'RubenB/EN_QUE\\xcc\\x81_VOY_A_CREER_AHORA.txt']\n",
      "Los labels correspondientes: \n",
      "['JaimeS', 'JaimeS', 'JaimeS', 'JaimeS', 'JaimeS'] ['RubenB', 'RubenB', 'RubenB', 'RubenB', 'RubenB']\n"
     ]
    }
   ],
   "source": [
    "#Obtain the folders and files names\n",
    "root = \"poemas/\"\n",
    "folders = []  #Vector of folders names\n",
    "files   = []  #Vector of files names\n",
    "labels  = []  #Vector of \"labels\" or correct clase for each file\n",
    "\n",
    "for folder in os.listdir(root):\n",
    "    folders.append(folder)\n",
    "    \n",
    "for folder in folders:\n",
    "    for arch in os.listdir(root + folder + '/'):\n",
    "        files.append(folder + '/' + arch)\n",
    "        labels.append(folder)\n",
    "    \n",
    "print \"Los directorios son:\", folders\n",
    "print \"Algunos archivos son:\\n\", files[:5], \"\\n\",files[100:105]\n",
    "print \"Los labels correspondientes: \\n\", labels[:5], labels[100:105]"
   ]
  },
  {
   "cell_type": "code",
   "execution_count": 3,
   "metadata": {
    "collapsed": false
   },
   "outputs": [
    {
     "name": "stdout",
     "output_type": "stream",
     "text": [
      "The dataset has 80 number of poems writen by JaimeS\n",
      "The dataset has 70 number of poems writen by RubenB\n",
      "The dataset has 75 number of poems writen by OctavioP\n",
      "The dataset has 80 number of poems writen by RosarioC\n",
      "The dataset has 48 number of poems writen by EfrainH\n"
     ]
    }
   ],
   "source": [
    "#show a number of poems/files in a folder/by author\n",
    "for folder in folders:\n",
    "    print \"The dataset has %s number of poems writen by %s\" % (labels.count(folder), folder)"
   ]
  },
  {
   "cell_type": "markdown",
   "metadata": {},
   "source": [
    "Now I have the files directions, because I have a small dataset I will charge all the data poems in memory"
   ]
  },
  {
   "cell_type": "code",
   "execution_count": 4,
   "metadata": {
    "collapsed": false
   },
   "outputs": [],
   "source": [
    "poemsText = []  #Array with a text of the poems\n",
    "for arch in files:\n",
    "    doc = open(root+arch)\n",
    "    poemsText.append(doc.read().decode('latin-1'))"
   ]
  },
  {
   "cell_type": "code",
   "execution_count": 5,
   "metadata": {
    "collapsed": false
   },
   "outputs": [
    {
     "name": "stdout",
     "output_type": "stream",
     "text": [
      "ALGO SOBRE LA MUERTE DEL MAYOR SABINES. PRIMERA PARTE. XII\r\n",
      "\r\n",
      "\r\n",
      "Morir es retirarse, hacerse a un lado,\r\n",
      "ocultarse un momento, estarse quieto,\r\n",
      "pasar el aire de una orilla a nado\r\n",
      "y estar en todas partes en secreto.\r\n",
      "\r\n",
      "Morir es olvidar, ser olvidado,\r\n",
      "refugiarse desnudo en el discreto\r\n",
      "calor de Dios, y en su cerrado\r\n",
      "puño, crecer igual que un feto.\r\n",
      "\r\n",
      "Morir es encenderse bocabajo\r\n",
      "hacia el humo y el hueso y la caliza\r\n",
      "y hacerse tierra y tierra con trabajo.\r\n",
      "\r\n",
      "Apagarse es morir, lento y aprisa\r\n",
      "tomar la eternidad como a destajo\r\n",
      "y repartir el alma en la ceniza.\r\n",
      "\n"
     ]
    }
   ],
   "source": [
    "#Ejemplo de poema en el dataset\n",
    "print poemsText[1]"
   ]
  },
  {
   "cell_type": "markdown",
   "metadata": {
    "collapsed": false
   },
   "source": [
    "### Extracting Features of the documents"
   ]
  },
  {
   "cell_type": "markdown",
   "metadata": {},
   "source": [
    "Represtations\n",
    "\n",
    "* Bag of N-grams of words\n",
    "* Bag of N-grams of characters\n",
    "* tfidf\n",
    "* tfidf of N-grams of words\n",
    "* tfidf of N-grams of Characters"
   ]
  },
  {
   "cell_type": "code",
   "execution_count": 6,
   "metadata": {
    "collapsed": false
   },
   "outputs": [],
   "source": [
    "min_df = 5  #Min Document Frecuency\n",
    "#Bag of words representations\n",
    "BoW = CountVectorizer(min_df= min_df)                                #Bag of Words\n",
    "BoW_ngrams = CountVectorizer(ngram_range=(1, 3) ,min_df= min_df)     #Bag of Words with 1 to 4-grams of words\n",
    "BoC_ngrams = CountVectorizer(ngram_range=(4, 5), \n",
    "                                min_df= min_df, analyzer='char')     #Bag of Characters whit 4 to 5-grams of chars\n",
    "\n",
    "\n",
    "#TfIdf Representations\n",
    "tfidfW = TfidfVectorizer(min_df= min_df)                         #TfIdf of words\n",
    "tfidfW_ngrams = TfidfVectorizer(ngram_range=(1, 4)\n",
    "                               , min_df= min_df)                 #TfIdf of words with 1 to 4-grams of words\n",
    "tfidfC_ngrams = TfidfVectorizer(ngram_range=(4, 5), \n",
    "                                min_df= min_df, analyzer='char') #TfIdf of Characters with 3 to 6-grams of words"
   ]
  },
  {
   "cell_type": "code",
   "execution_count": 7,
   "metadata": {
    "collapsed": true
   },
   "outputs": [],
   "source": [
    "#Vectors of Features of each poem, by each representation\n",
    "Xbow = BoW.fit_transform(poemsText)\n",
    "Xbow_ngrams = BoW_ngrams.fit_transform(poemsText)\n",
    "Xboc_ngrams = BoC_ngrams.fit_transform(poemsText)\n",
    "\n",
    "XtfidfW = tfidfW.fit_transform(poemsText)\n",
    "XtfidfW_ngrams = tfidfW_ngrams.fit_transform(poemsText)\n",
    "XtfidfC_ngrams = tfidfC_ngrams.fit_transform(poemsText)"
   ]
  },
  {
   "cell_type": "markdown",
   "metadata": {},
   "source": [
    "### Partitioning of the dataset to Test-Validation and Train\n",
    "\n",
    "Using StratifiedKFold method from sklearn to do a approximately set with the same percentage of samples in each class."
   ]
  },
  {
   "cell_type": "code",
   "execution_count": 8,
   "metadata": {
    "collapsed": false
   },
   "outputs": [
    {
     "name": "stdout",
     "output_type": "stream",
     "text": [
      "Example of the diferents set in the 10-fold\n",
      "\n",
      "1-simo Fold\n",
      "\n",
      "Summary of the DataSet\n",
      "\n",
      "RosarioC has 72 in TrainSet and 8 in TestSet it is the 11.11 of elements\n",
      "OctavioP has 67 in TrainSet and 8 in TestSet it is the 11.94 of elements\n",
      "RubenB has 63 in TrainSet and 7 in TestSet it is the 11.11 of elements\n",
      "EfrainH has 43 in TrainSet and 5 in TestSet it is the 11.63 of elements\n",
      "JaimeS has 72 in TrainSet and 8 in TestSet it is the 11.11 of elements\n",
      "\n",
      "2-simo Fold\n",
      "\n",
      "Summary of the DataSet\n",
      "\n",
      "RosarioC has 72 in TrainSet and 8 in TestSet it is the 11.11 of elements\n",
      "OctavioP has 67 in TrainSet and 8 in TestSet it is the 11.94 of elements\n",
      "RubenB has 63 in TrainSet and 7 in TestSet it is the 11.11 of elements\n",
      "EfrainH has 43 in TrainSet and 5 in TestSet it is the 11.63 of elements\n",
      "JaimeS has 72 in TrainSet and 8 in TestSet it is the 11.11 of elements\n",
      "\n",
      "3-simo Fold\n",
      "\n",
      "Summary of the DataSet\n",
      "\n",
      "RosarioC has 72 in TrainSet and 8 in TestSet it is the 11.11 of elements\n",
      "OctavioP has 67 in TrainSet and 8 in TestSet it is the 11.94 of elements\n",
      "RubenB has 63 in TrainSet and 7 in TestSet it is the 11.11 of elements\n",
      "EfrainH has 43 in TrainSet and 5 in TestSet it is the 11.63 of elements\n",
      "JaimeS has 72 in TrainSet and 8 in TestSet it is the 11.11 of elements\n",
      "\n",
      "4-simo Fold\n",
      "\n",
      "Summary of the DataSet\n",
      "\n",
      "RosarioC has 72 in TrainSet and 8 in TestSet it is the 11.11 of elements\n",
      "OctavioP has 67 in TrainSet and 8 in TestSet it is the 11.94 of elements\n",
      "RubenB has 63 in TrainSet and 7 in TestSet it is the 11.11 of elements\n",
      "EfrainH has 43 in TrainSet and 5 in TestSet it is the 11.63 of elements\n",
      "JaimeS has 72 in TrainSet and 8 in TestSet it is the 11.11 of elements\n",
      "\n",
      "5-simo Fold\n",
      "\n",
      "Summary of the DataSet\n",
      "\n",
      "RosarioC has 72 in TrainSet and 8 in TestSet it is the 11.11 of elements\n",
      "OctavioP has 67 in TrainSet and 8 in TestSet it is the 11.94 of elements\n",
      "RubenB has 63 in TrainSet and 7 in TestSet it is the 11.11 of elements\n",
      "EfrainH has 43 in TrainSet and 5 in TestSet it is the 11.63 of elements\n",
      "JaimeS has 72 in TrainSet and 8 in TestSet it is the 11.11 of elements\n",
      "\n",
      "6-simo Fold\n",
      "\n",
      "Summary of the DataSet\n",
      "\n",
      "RosarioC has 72 in TrainSet and 8 in TestSet it is the 11.11 of elements\n",
      "OctavioP has 68 in TrainSet and 7 in TestSet it is the 10.29 of elements\n",
      "RubenB has 63 in TrainSet and 7 in TestSet it is the 11.11 of elements\n",
      "EfrainH has 43 in TrainSet and 5 in TestSet it is the 11.63 of elements\n",
      "JaimeS has 72 in TrainSet and 8 in TestSet it is the 11.11 of elements\n",
      "\n",
      "7-simo Fold\n",
      "\n",
      "Summary of the DataSet\n",
      "\n",
      "RosarioC has 72 in TrainSet and 8 in TestSet it is the 11.11 of elements\n",
      "OctavioP has 68 in TrainSet and 7 in TestSet it is the 10.29 of elements\n",
      "RubenB has 63 in TrainSet and 7 in TestSet it is the 11.11 of elements\n",
      "EfrainH has 43 in TrainSet and 5 in TestSet it is the 11.63 of elements\n",
      "JaimeS has 72 in TrainSet and 8 in TestSet it is the 11.11 of elements\n",
      "\n",
      "8-simo Fold\n",
      "\n",
      "Summary of the DataSet\n",
      "\n",
      "RosarioC has 72 in TrainSet and 8 in TestSet it is the 11.11 of elements\n",
      "OctavioP has 68 in TrainSet and 7 in TestSet it is the 10.29 of elements\n",
      "RubenB has 63 in TrainSet and 7 in TestSet it is the 11.11 of elements\n",
      "EfrainH has 43 in TrainSet and 5 in TestSet it is the 11.63 of elements\n",
      "JaimeS has 72 in TrainSet and 8 in TestSet it is the 11.11 of elements\n",
      "\n",
      "9-simo Fold\n",
      "\n",
      "Summary of the DataSet\n",
      "\n",
      "RosarioC has 72 in TrainSet and 8 in TestSet it is the 11.11 of elements\n",
      "OctavioP has 68 in TrainSet and 7 in TestSet it is the 10.29 of elements\n",
      "RubenB has 63 in TrainSet and 7 in TestSet it is the 11.11 of elements\n",
      "EfrainH has 44 in TrainSet and 4 in TestSet it is the 9.09 of elements\n",
      "JaimeS has 72 in TrainSet and 8 in TestSet it is the 11.11 of elements\n",
      "\n",
      "10-simo Fold\n",
      "\n",
      "Summary of the DataSet\n",
      "\n",
      "RosarioC has 72 in TrainSet and 8 in TestSet it is the 11.11 of elements\n",
      "OctavioP has 68 in TrainSet and 7 in TestSet it is the 10.29 of elements\n",
      "RubenB has 63 in TrainSet and 7 in TestSet it is the 11.11 of elements\n",
      "EfrainH has 44 in TrainSet and 4 in TestSet it is the 9.09 of elements\n",
      "JaimeS has 72 in TrainSet and 8 in TestSet it is the 11.11 of elements\n"
     ]
    }
   ],
   "source": [
    "skf = StratifiedKFold(labels, 10)\n",
    "print \"Example of the diferents set in the 10-fold\"\n",
    "for idx, (train, test) in enumerate(skf):\n",
    "    print \"\\n%s-simo Fold\" % (idx+1)\n",
    "    #print \"\\nTrain:%s \\nTest:%s\" % (idx, train, test)\n",
    "    print \"\\nSummary of the DataSet\\n\"\n",
    "    \n",
    "    cntTrain = {}\n",
    "    cntTest  = {}\n",
    "    for idx in train:\n",
    "        lName = labels[idx]\n",
    "        if lName not in cntTrain:\n",
    "            cntTrain[lName] = 0\n",
    "        cntTrain[lName] += 1\n",
    "    \n",
    "    for idx in test:\n",
    "        lName = labels[idx]\n",
    "        if lName not in cntTest:\n",
    "            cntTest[lName] = 0\n",
    "        cntTest[lName] += 1\n",
    "    \n",
    "    for name in cntTrain.keys():\n",
    "        line = \"%s has %s in TrainSet and %s in TestSet it is the %.2f of elements\" \\\n",
    "        % (name, str(cntTrain[name]), str(cntTest[name]), cntTest[name]*100.0/cntTrain[name]) \n",
    "        print line"
   ]
  },
  {
   "cell_type": "markdown",
   "metadata": {},
   "source": [
    "creating a validation set for a new set to doing a better selection of the parameters."
   ]
  },
  {
   "cell_type": "code",
   "execution_count": 9,
   "metadata": {
    "collapsed": true
   },
   "outputs": [],
   "source": [
    "#Split the sets in train and test\n",
    "Xval_train, Xval_test, Yval_train, Yval_test = train_test_split(range(len(poemsText)), labels, test_size=0.20, random_state=0)\n",
    "#Split the set of train in train and validation\n",
    "Xval2_train, Xval_val, Yval2_train, Yval_val = train_test_split(Xval_train, Yval_train, test_size=0.20)"
   ]
  },
  {
   "cell_type": "markdown",
   "metadata": {},
   "source": [
    "---"
   ]
  },
  {
   "cell_type": "markdown",
   "metadata": {},
   "source": [
    "## SVM Classifier"
   ]
  },
  {
   "cell_type": "markdown",
   "metadata": {},
   "source": [
    "First I define a method to do an exploration of the best C parameter of SVM for each representation."
   ]
  },
  {
   "cell_type": "code",
   "execution_count": 10,
   "metadata": {
    "collapsed": false
   },
   "outputs": [],
   "source": [
    "'''\n",
    "# doExploration analyze the best parameter por a SVM linear\n",
    "# trainIdx index of the data in the train data set\n",
    "# testIdx index of the data in the test data set\n",
    "'''\n",
    "def doExploration(trainIdx, testIdx, features, inf=-10, sup=10, step=1, pote=True):\n",
    "    \n",
    "    X_train  = features[trainIdx]\n",
    "    X_test   = features[testIdx]\n",
    "    Y_train  = [labels[idx] for idx in trainIdx]\n",
    "    Y_test   = [labels[idx] for idx in testIdx]\n",
    "    \n",
    "    f1_train = []\n",
    "    \n",
    "    for pot in xrange(inf, sup, step):\n",
    "        c = pot\n",
    "        if pote:\n",
    "            c = 2**pot\n",
    "        else:\n",
    "            c /= 10.0\n",
    "        clf_svm = svm.LinearSVC(C = c)\n",
    "        clf_svm.fit(X_train, Y_train)\n",
    "        prediction = clf_svm.predict(X_test)\n",
    "    \n",
    "        f1_train.append(metrics.f1_score(Y_test, prediction, average='macro'))\n",
    "        #print c, \"=>\", metrics.f1_score(Y_test, prediction, average='macro')\n",
    "    \n",
    "    f1_train = np.array(f1_train)\n",
    "    bestC = f1_train.argmax()\n",
    "    \n",
    "    return f1_train, bestC"
   ]
  },
  {
   "cell_type": "markdown",
   "metadata": {},
   "source": [
    "#### Finding the best C parameter for each representation"
   ]
  },
  {
   "cell_type": "code",
   "execution_count": 11,
   "metadata": {
    "collapsed": false
   },
   "outputs": [],
   "source": [
    "#Define a array to group the diferent features representations\n",
    "featuresArray = [Xbow, Xbow_ngrams, Xboc_ngrams, XtfidfW, XtfidfW_ngrams\n",
    "                 ,XtfidfC_ngrams]\n",
    "featuresNamesArray = [\"BoW\", \"BoW ngrams\", \"BoC ngrams\", \"tf-idf of words\"\n",
    "                      ,\"tf-idf words ngrams\", \"tf-idf char ngrams\"]"
   ]
  },
  {
   "cell_type": "code",
   "execution_count": 12,
   "metadata": {
    "collapsed": false,
    "scrolled": false
   },
   "outputs": [
    {
     "name": "stdout",
     "output_type": "stream",
     "text": [
      "\n",
      "\n",
      "The parameter search for BoW\n",
      "The best C_parameter is 2^ -7\n",
      "            2**-10    2**-9     2**-8     2**-7     2**-6     2**-5     2**-4  \\\n",
      "F1 Score  0.606393  0.60552  0.620806  0.635436  0.546724  0.530897  0.496276   \n",
      "\n",
      "             2**-3     2**-2     2**-1      2**0      2**1      2**2  \\\n",
      "F1 Score  0.536941  0.512958  0.499317  0.501555  0.501555  0.514217   \n",
      "\n",
      "              2**3      2**4      2**5      2**6      2**7      2**8      2**9  \n",
      "F1 Score  0.514217  0.514217  0.514217  0.514217  0.530132  0.530132  0.530132  \n",
      "Axes(0.125,0.125;0.775x0.775)\n",
      "\n",
      "\n",
      "The parameter search for BoW ngrams\n",
      "The best C_parameter is 2^ -9\n",
      "            2**-10     2**-9     2**-8     2**-7    2**-6     2**-5     2**-4  \\\n",
      "F1 Score  0.571328  0.617453  0.581345  0.516151  0.51751  0.530927  0.500718   \n",
      "\n",
      "             2**-3     2**-2     2**-1      2**0      2**1      2**2  \\\n",
      "F1 Score  0.534821  0.534821  0.517151  0.522077  0.522077  0.522077   \n",
      "\n",
      "              2**3      2**4      2**5      2**6      2**7      2**8      2**9  \n",
      "F1 Score  0.522077  0.522077  0.522077  0.522077  0.522077  0.522077  0.522077  \n",
      "Axes(0.125,0.125;0.775x0.775)\n",
      "\n",
      "\n",
      "The parameter search for BoC ngrams\n",
      "The best C_parameter is 2^ -10\n",
      "            2**-10     2**-9     2**-8     2**-7     2**-6     2**-5  \\\n",
      "F1 Score  0.692518  0.663004  0.691142  0.691142  0.676825  0.676825   \n",
      "\n",
      "             2**-4     2**-3     2**-2     2**-1      2**0      2**1  \\\n",
      "F1 Score  0.676825  0.676825  0.676825  0.676825  0.676825  0.676825   \n",
      "\n",
      "              2**2      2**3      2**4      2**5      2**6      2**7  \\\n",
      "F1 Score  0.676825  0.676825  0.676825  0.676825  0.676825  0.676825   \n",
      "\n",
      "              2**8      2**9  \n",
      "F1 Score  0.676825  0.676825  \n",
      "Axes(0.125,0.125;0.775x0.775)\n",
      "\n",
      "\n",
      "The parameter search for tf-idf of words\n",
      "The best C_parameter is 2^ 0\n",
      "           2**-10    2**-9     2**-8     2**-7     2**-6    2**-5    2**-4  \\\n",
      "F1 Score  0.04375  0.04375  0.099235  0.195055  0.331635  0.45471  0.52628   \n",
      "\n",
      "             2**-3     2**-2     2**-1     2**0      2**1      2**2      2**3  \\\n",
      "F1 Score  0.535629  0.613579  0.675507  0.73487  0.702592  0.702592  0.702592   \n",
      "\n",
      "              2**4      2**5      2**6      2**7      2**8      2**9  \n",
      "F1 Score  0.702592  0.702592  0.702592  0.702592  0.702592  0.702592  \n",
      "Axes(0.125,0.125;0.775x0.775)\n",
      "\n",
      "\n",
      "The parameter search for tf-idf words ngrams\n",
      "The best C_parameter is 2^ 2\n",
      "           2**-10    2**-9     2**-8     2**-7     2**-6     2**-5     2**-4  \\\n",
      "F1 Score  0.04375  0.04375  0.099235  0.138947  0.329846  0.395517  0.475469   \n",
      "\n",
      "             2**-3     2**-2     2**-1      2**0     2**1      2**2      2**3  \\\n",
      "F1 Score  0.558295  0.655786  0.753001  0.758013  0.79931  0.812671  0.812671   \n",
      "\n",
      "              2**4      2**5      2**6      2**7      2**8      2**9  \n",
      "F1 Score  0.812671  0.812671  0.812671  0.812671  0.812671  0.812671  \n",
      "Axes(0.125,0.125;0.775x0.775)\n",
      "\n",
      "\n",
      "The parameter search for tf-idf char ngrams\n",
      "The best C_parameter is 2^ 0\n",
      "           2**-10    2**-9    2**-8    2**-7     2**-6     2**-5    2**-4  \\\n",
      "F1 Score  0.04375  0.04375  0.04375  0.04375  0.156667  0.362342  0.58218   \n",
      "\n",
      "            2**-3     2**-2     2**-1      2**0      2**1     2**2      2**3  \\\n",
      "F1 Score  0.68775  0.765767  0.765767  0.776155  0.755039  0.77106  0.743405   \n",
      "\n",
      "              2**4      2**5      2**6      2**7      2**8      2**9  \n",
      "F1 Score  0.746525  0.746525  0.746525  0.746525  0.746525  0.746525  \n",
      "Axes(0.125,0.125;0.775x0.775)\n"
     ]
    },
    {
     "name": "stderr",
     "output_type": "stream",
     "text": [
      "/opt/anaconda/envs/mindlabenv/lib/python2.7/site-packages/sklearn/metrics/metrics.py:1771: UndefinedMetricWarning: F-score is ill-defined and being set to 0.0 in labels with no predicted samples.\n",
      "  'precision', 'predicted', average, warn_for)\n"
     ]
    },
    {
     "data": {
      "image/png": "[encoded data removed]",
      "text/plain": [
       "<matplotlib.figure.Figure at 0x7ff3835ad0d0>"
      ]
     },
     "metadata": {},
     "output_type": "display_data"
    },
    {
     "data": {
      "image/png": "[encoded data removed]",
      "text/plain": [
       "<matplotlib.figure.Figure at 0x7ff3837bf7d0>"
      ]
     },
     "metadata": {},
     "output_type": "display_data"
    },
    {
     "data": {
      "image/png": "[encoded data removed]",
      "text/plain": [
       "<matplotlib.figure.Figure at 0x7ff38373f390>"
      ]
     },
     "metadata": {},
     "output_type": "display_data"
    },
    {
     "data": {
      "image/png": "[encoded data removed]",
      "text/plain": [
       "<matplotlib.figure.Figure at 0x7ff38368ce10>"
      ]
     },
     "metadata": {},
     "output_type": "display_data"
    },
    {
     "data": {
      "image/png": "[encoded data removed]",
      "text/plain": [
       "<matplotlib.figure.Figure at 0x7ff38360ead0>"
      ]
     },
     "metadata": {},
     "output_type": "display_data"
    },
    {
     "data": {
      "image/png": "[encoded data removed]",
      "text/plain": [
       "<matplotlib.figure.Figure at 0x7ff3834c1510>"
      ]
     },
     "metadata": {},
     "output_type": "display_data"
    }
   ],
   "source": [
    "inf = -10\n",
    "sup = 10\n",
    "bestCbyRep = []\n",
    "for idx, feature in enumerate(featuresArray):\n",
    "    print \"\\n\\nThe parameter search for\", featuresNamesArray[idx]\n",
    "    f1res, bestC = doExploration(Xval2_train, Xval_val, feature, inf=inf, sup=sup)\n",
    "    scores = pd.DataFrame(data=f1res, index=[\"2**%s\" % (pot) for pot in range(inf, sup)], columns=[\"F1 Score\"]).T\n",
    "    f1res = np.array(f1res)\n",
    "    \n",
    "    #add the best C parameter to doing the next part of the experiment\n",
    "    bestCbyRep.append(f1res.argmax()+inf)\n",
    "    \n",
    "    print \"The best C_parameter is 2^\", f1res.argmax()+inf\n",
    "    print scores\n",
    "    plot = scores.T.plot(title=\"Entrenamiento %s representation\" % (featuresNamesArray[idx]))\n",
    "    print plot\n",
    "    "
   ]
  },
  {
   "cell_type": "code",
   "execution_count": 13,
   "metadata": {
    "collapsed": false
   },
   "outputs": [
    {
     "name": "stdout",
     "output_type": "stream",
     "text": [
      "BoW best c= 2^-7 = 0.008\n",
      "BoW ngrams best c= 2^-9 = 0.002\n",
      "BoC ngrams best c= 2^-10 = 0.001\n",
      "tf-idf of words best c= 2^0 = 1.000\n",
      "tf-idf words ngrams best c= 2^2 = 4.000\n",
      "tf-idf char ngrams best c= 2^0 = 1.000\n"
     ]
    }
   ],
   "source": [
    "for idx, feature in enumerate(featuresNamesArray):\n",
    "    print \"%s best c= 2^%s = %.3f\" % (feature, bestCbyRep[idx], 2**bestCbyRep[idx])"
   ]
  },
  {
   "cell_type": "markdown",
   "metadata": {},
   "source": [
    "This process was run in a different and small dataset(excluding the test dataset) because the objetive is to found the best C parameter and not to verify the performance."
   ]
  },
  {
   "cell_type": "markdown",
   "metadata": {},
   "source": [
    "#### Run the experiments in the 10 fold groups\n",
    "In this section I run a LinearSVM with all the representations"
   ]
  },
  {
   "cell_type": "code",
   "execution_count": 14,
   "metadata": {
    "collapsed": false
   },
   "outputs": [
    {
     "name": "stdout",
     "output_type": "stream",
     "text": [
      "--------------------- Summary  BoW ---------------------\n",
      "          1-simo Fold  2-simo Fold  3-simo Fold  4-simo Fold  5-simo Fold  \\\n",
      "F1 Score     0.738039     0.655281     0.807222     0.722923     0.752924   \n",
      "\n",
      "          6-simo Fold  7-simo Fold  8-simo Fold  9-simo Fold  10-simo Fold  \n",
      "F1 Score     0.672619     0.606221     0.617949     0.712381       0.64381  \n",
      "F1_score: 0.69 (+/- 0.12)\n",
      "------------------------------------------------------------\n",
      "--------------------- Summary  BoW ngrams ---------------------\n",
      "          1-simo Fold  2-simo Fold  3-simo Fold  4-simo Fold  5-simo Fold  \\\n",
      "F1 Score     0.743333     0.660837      0.72423     0.622982     0.659518   \n",
      "\n",
      "          6-simo Fold  7-simo Fold  8-simo Fold  9-simo Fold  10-simo Fold  \n",
      "F1 Score     0.610299     0.583394     0.657656     0.604511      0.637671  \n",
      "F1_score: 0.65 (+/- 0.10)\n",
      "------------------------------------------------------------\n",
      "--------------------- Summary  BoC ngrams ---------------------\n",
      "          1-simo Fold  2-simo Fold  3-simo Fold  4-simo Fold  5-simo Fold  \\\n",
      "F1 Score     0.854776     0.752576     0.829608     0.785341     0.752668   \n",
      "\n",
      "          6-simo Fold  7-simo Fold  8-simo Fold  9-simo Fold  10-simo Fold  \n",
      "F1 Score     0.829048     0.722923     0.728001     0.789206      0.659841  \n",
      "F1_score: 0.77 (+/- 0.11)\n",
      "------------------------------------------------------------\n",
      "--------------------- Summary  tf-idf of words ---------------------\n",
      "          1-simo Fold  2-simo Fold  3-simo Fold  4-simo Fold  5-simo Fold  \\\n",
      "F1 Score     0.888651     0.615205     0.780635      0.72451     0.808379   \n",
      "\n",
      "          6-simo Fold  7-simo Fold  8-simo Fold  9-simo Fold  10-simo Fold  \n",
      "F1 Score     0.791746     0.715774     0.693307     0.686667      0.694762  \n",
      "F1_score: 0.74 (+/- 0.15)\n",
      "------------------------------------------------------------\n",
      "--------------------- Summary  tf-idf words ngrams ---------------------\n",
      "          1-simo Fold  2-simo Fold  3-simo Fold  4-simo Fold  5-simo Fold  \\\n",
      "F1 Score     0.861984     0.720136     0.807222     0.777368     0.772536   \n",
      "\n",
      "          6-simo Fold  7-simo Fold  8-simo Fold  9-simo Fold  10-simo Fold  \n",
      "F1 Score     0.782209     0.669841     0.659503     0.714706      0.692605  \n",
      "F1_score: 0.75 (+/- 0.12)\n",
      "------------------------------------------------------------\n",
      "--------------------- Summary  tf-idf char ngrams ---------------------\n",
      "          1-simo Fold  2-simo Fold  3-simo Fold  4-simo Fold  5-simo Fold  \\\n",
      "F1 Score     0.915171     0.877099     0.861928     0.856667      0.83089   \n",
      "\n",
      "          6-simo Fold  7-simo Fold  8-simo Fold  9-simo Fold  10-simo Fold  \n",
      "F1 Score     0.847267     0.737367     0.780206     0.862222      0.782073  \n",
      "F1_score: 0.84 (+/- 0.10)\n",
      "------------------------------------------------------------\n"
     ]
    }
   ],
   "source": [
    "summary = []\n",
    "confM = []\n",
    "for idx, features in enumerate(featuresArray):\n",
    "    scoreF1 = []\n",
    "    clf = svm.LinearSVC(C=2**bestCbyRep[idx])\n",
    "    for train, test in skf:\n",
    "        #print \"\\n%s-simo Fold\" % (idx+1)\n",
    "        X = features[train]\n",
    "        Xtest = features[test]\n",
    "        Y = [labels[indice] for indice in train]\n",
    "        Ytest = [labels[indice] for indice in test]\n",
    "        \n",
    "        clf.fit(X, Y)\n",
    "        prediction = clf.predict(Xtest)\n",
    "        f1 = metrics.f1_score(Ytest, prediction, average='macro')\n",
    "        scoreF1.append(f1)\n",
    "    scores = pd.DataFrame(data=scoreF1, columns=[\"F1 Score\"], index=[\"%s-simo Fold\" % (x) for x in xrange(1,11)]).T\n",
    "    scoreF1 = np.array(scoreF1)\n",
    "    summary.append(\"%0.2f (+/- %0.2f)\" % (scoreF1.mean(), scoreF1.std() * 2))\n",
    "    \n",
    "    print '---'*7, \"Summary \",featuresNamesArray[idx], '---'*7\n",
    "    print scores\n",
    "    print(\"F1_score: %0.2f (+/- %0.2f)\" % (scoreF1.mean(), scoreF1.std() * 2))\n",
    "    print '---'*20"
   ]
  },
  {
   "cell_type": "markdown",
   "metadata": {},
   "source": [
    "## Results"
   ]
  },
  {
   "cell_type": "code",
   "execution_count": 15,
   "metadata": {
    "collapsed": false
   },
   "outputs": [
    {
     "data": {
      "text/html": [
       "<div>\n",
       "<table border=\"1\" class=\"dataframe\">\n",
       "  <thead>\n",
       "    <tr style=\"text-align: right;\">\n",
       "      <th></th>\n",
       "      <th>F1 Score Macro</th>\n",
       "      <th>C parameter</th>\n",
       "    </tr>\n",
       "  </thead>\n",
       "  <tbody>\n",
       "    <tr>\n",
       "      <th>BoW</th>\n",
       "      <td>0.69 (+/- 0.12)</td>\n",
       "      <td>2^-7</td>\n",
       "    </tr>\n",
       "    <tr>\n",
       "      <th>BoW ngrams</th>\n",
       "      <td>0.65 (+/- 0.10)</td>\n",
       "      <td>2^-9</td>\n",
       "    </tr>\n",
       "    <tr>\n",
       "      <th>BoC ngrams</th>\n",
       "      <td>0.77 (+/- 0.11)</td>\n",
       "      <td>2^-10</td>\n",
       "    </tr>\n",
       "    <tr>\n",
       "      <th>tf-idf of words</th>\n",
       "      <td>0.74 (+/- 0.15)</td>\n",
       "      <td>2^0</td>\n",
       "    </tr>\n",
       "    <tr>\n",
       "      <th>tf-idf words ngrams</th>\n",
       "      <td>0.75 (+/- 0.12)</td>\n",
       "      <td>2^2</td>\n",
       "    </tr>\n",
       "    <tr>\n",
       "      <th>tf-idf char ngrams</th>\n",
       "      <td>0.84 (+/- 0.10)</td>\n",
       "      <td>2^0</td>\n",
       "    </tr>\n",
       "  </tbody>\n",
       "</table>\n",
       "</div>"
      ],
      "text/plain": [
       "                      F1 Score Macro C parameter\n",
       "BoW                  0.69 (+/- 0.12)        2^-7\n",
       "BoW ngrams           0.65 (+/- 0.10)        2^-9\n",
       "BoC ngrams           0.77 (+/- 0.11)       2^-10\n",
       "tf-idf of words      0.74 (+/- 0.15)         2^0\n",
       "tf-idf words ngrams  0.75 (+/- 0.12)         2^2\n",
       "tf-idf char ngrams   0.84 (+/- 0.10)         2^0"
      ]
     },
     "execution_count": 15,
     "metadata": {},
     "output_type": "execute_result"
    }
   ],
   "source": [
    "data = zip(summary, [\"2^%s\"%(x) for x in bestCbyRep])\n",
    "pd.DataFrame(data=data, columns=[\"F1 Score Macro\", \"C parameter\"], index=featuresNamesArray)"
   ]
  },
  {
   "cell_type": "markdown",
   "metadata": {},
   "source": [
    "The best results are for the TF-IDF char nGrams representation 4 and 5-grams, this could be because the ngrams of characters obatain a interesting features in the spanish grammar like, puntuation, the Beginings and endings (time, conjugations, etc) of the words. I can say that in this task the style is more relevant than the content. "
   ]
  },
  {
   "cell_type": "markdown",
   "metadata": {
    "collapsed": true
   },
   "source": [
    "The based line uses content, in both approaches where  I used character ngrams as representing the style got better results than the ones where I used words as representation of the content. The best line was improved in all the experiments for at least 1 percent taking in to account the error range."
   ]
  },
  {
   "cell_type": "markdown",
   "metadata": {},
   "source": [
    "All the representations using character-ngrams got better results than the ones using words and words ngrams. This also apply for the tf-idf representation  using words."
   ]
  }
 ],
 "metadata": {
  "kernelspec": {
   "display_name": "Python 2",
   "language": "python",
   "name": "python2"
  },
  "language_info": {
   "codemirror_mode": {
    "name": "ipython",
    "version": 2
   },
   "file_extension": ".py",
   "mimetype": "text/x-python",
   "name": "python",
   "nbconvert_exporter": "python",
   "pygments_lexer": "ipython2",
   "version": "2.7.11"
  }
 },
 "nbformat": 4,
 "nbformat_minor": 0
}
